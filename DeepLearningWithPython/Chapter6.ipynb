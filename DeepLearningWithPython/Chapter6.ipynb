{
 "cells": [
  {
   "cell_type": "markdown",
   "id": "a86c5586",
   "metadata": {},
   "source": [
    "Workflow of machine learning"
   ]
  },
  {
   "cell_type": "code",
   "execution_count": null,
   "id": "074e22e5",
   "metadata": {
    "vscode": {
     "languageId": "plaintext"
    }
   },
   "outputs": [],
   "source": []
  }
 ],
 "metadata": {
  "language_info": {
   "name": "python"
  }
 },
 "nbformat": 4,
 "nbformat_minor": 5
}
